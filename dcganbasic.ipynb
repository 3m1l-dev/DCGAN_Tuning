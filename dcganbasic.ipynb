{
 "cells": [
  {
   "cell_type": "markdown",
   "metadata": {},
   "source": [
    "# Normal DCGAN"
   ]
  },
  {
   "cell_type": "code",
   "execution_count": 1,
   "metadata": {},
   "outputs": [],
   "source": [
    "import os\n",
    "import numpy as np\n",
    "import math\n",
    "import random\n",
    "import matplotlib.pyplot as plt\n",
    "\n",
    "import torchvision.transforms as transforms\n",
    "import torch.nn as nn\n",
    "import torch.nn.functional as F\n",
    "import torch\n",
    "\n",
    "from torchvision.utils import save_image\n",
    "from torchvision import datasets\n",
    "from torch.utils.data import DataLoader"
   ]
  },
  {
   "cell_type": "code",
   "execution_count": 2,
   "metadata": {},
   "outputs": [],
   "source": [
    "%matplotlib inline\n",
    "os.makedirs('images', exist_ok=True)\n",
    "os.makedirs('data', exist_ok=True)\n",
    "os.makedirs('saved_models', exist_ok=True)\n",
    "\n",
    "# Enable GPU\n",
    "cuda = True if torch.cuda.is_available() else False"
   ]
  },
  {
   "cell_type": "markdown",
   "metadata": {},
   "source": [
    "Parameters"
   ]
  },
  {
   "cell_type": "code",
   "execution_count": 3,
   "metadata": {},
   "outputs": [],
   "source": [
    "# General\n",
    "\n",
    "epochs = 50\n",
    "batch_size = 64\n",
    "n_cpu = 1\n",
    "samples = 500\n",
    "seed = 1\n",
    "sample_interval = 5000\n",
    "checkpoint_interval = 10\n",
    "print_interval = 391\n",
    "\n",
    "# Hyperparameters: Adam optimizer parameters (learning rate and momentum decay)\n",
    "\n",
    "lr = 0.0002\n",
    "b1 = 0.5\n",
    "b2 = 0.999\n",
    "\n",
    "# Dimensions of latent space\n",
    "\n",
    "latent_dim = 100"
   ]
  },
  {
   "cell_type": "markdown",
   "metadata": {},
   "source": [
    "Configuring dataset and checking images"
   ]
  },
  {
   "cell_type": "code",
   "execution_count": 4,
   "metadata": {},
   "outputs": [
    {
     "name": "stdout",
     "output_type": "stream",
     "text": [
      "Files already downloaded and verified\n"
     ]
    }
   ],
   "source": [
    "# Configure data loader and image parameters\n",
    "\n",
    "img_dim = 32\n",
    "img_channels = 3\n",
    "\n",
    "os.makedirs('./data/cifar10', exist_ok=True)\n",
    "\n",
    "transform=transforms.Compose([\n",
    "    transforms.Resize(img_dim),\n",
    "    transforms.ToTensor(),\n",
    "    transforms.Normalize((0.5, 0.5, 0.5), (0.5, 0.5, 0.5))\n",
    "])\n",
    "\n",
    "dataset = datasets.CIFAR10(root='./data/cifar10', train=True, download=True,\n",
    "                       transform=transform)\n",
    "\n",
    "dataloader = torch.utils.data.DataLoader(dataset, batch_size=batch_size,\n",
    "                                         shuffle=True, num_workers=1)\n",
    "\n",
    "def show(img):\n",
    "    npimg = img.detach().cpu().numpy()\n",
    "    plt.imshow(np.transpose(npimg, (1,2,0)), interpolation='nearest')\n",
    "    plt.show()\n"
   ]
  },
  {
   "cell_type": "code",
   "execution_count": 5,
   "metadata": {},
   "outputs": [
    {
     "name": "stderr",
     "output_type": "stream",
     "text": [
      "Clipping input data to the valid range for imshow with RGB data ([0..1] for floats or [0..255] for integers).\n"
     ]
    },
    {
     "data": {
      "image/png": "[encoded data removed]",
      "text/plain": [
       "<Figure size 432x288 with 1 Axes>"
      ]
     },
     "metadata": {
      "needs_background": "light"
     },
     "output_type": "display_data"
    }
   ],
   "source": [
    "i, _ = dataset[5]\n",
    "show(i)"
   ]
  },
  {
   "cell_type": "markdown",
   "metadata": {},
   "source": [
    "Setting seed"
   ]
  },
  {
   "cell_type": "code",
   "execution_count": 6,
   "metadata": {},
   "outputs": [
    {
     "name": "stdout",
     "output_type": "stream",
     "text": [
      "Using cuda.\n"
     ]
    }
   ],
   "source": [
    "# CPU\n",
    "np.random.seed(seed)\n",
    "random.seed(seed)\n",
    "torch.manual_seed(seed)\n",
    "\n",
    "# GPU\n",
    "if torch.cuda.is_available():\n",
    "        print(\"Using cuda.\")\n",
    "        torch.cuda.manual_seed_all(seed)"
   ]
  },
  {
   "cell_type": "markdown",
   "metadata": {},
   "source": [
    "Generator: since nn.Upsample is deprecated in favour of nn.functional.interpolate I have made a custom nn.Module class to include this in the nn.Sequential."
   ]
  },
  {
   "cell_type": "code",
   "execution_count": 7,
   "metadata": {},
   "outputs": [],
   "source": [
    "class Interpolate(nn.Module):\n",
    "    def __init__(self, scale_factor):\n",
    "        super(Interpolate, self).__init__()\n",
    "        self.interp = nn.functional.interpolate\n",
    "        self.scale_factor = scale_factor\n",
    "        \n",
    "    def forward(self, x):\n",
    "        x = self.interp(x, scale_factor=self.scale_factor)\n",
    "        return x\n",
    "\n",
    "class Generator(nn.Module):\n",
    "    def __init__(self):\n",
    "        super(Generator, self).__init__()\n",
    "\n",
    "        self.init_size = img_dim // 4\n",
    "        self.l1 = nn.Sequential(nn.Linear(latent_dim, 128*self.init_size**2))\n",
    "\n",
    "        self.conv_blocks = nn.Sequential(\n",
    "            nn.BatchNorm2d(128),\n",
    "            Interpolate(scale_factor=2),\n",
    "            nn.Conv2d(128, 128, 3, stride=1, padding=1),\n",
    "            nn.BatchNorm2d(128, 0.8),\n",
    "            nn.LeakyReLU(0.2, inplace=True),\n",
    "            Interpolate(scale_factor=2),\n",
    "            nn.Conv2d(128, 64, 3, stride=1, padding=1),\n",
    "            nn.BatchNorm2d(64, 0.8),\n",
    "            nn.LeakyReLU(0.2, inplace=True),\n",
    "            nn.Conv2d(64, img_channels, 3, stride=1, padding=1),\n",
    "            nn.Tanh()\n",
    "        )\n",
    "\n",
    "    def forward(self, z):\n",
    "        out = self.l1(z)\n",
    "        out = out.view(out.shape[0], 128, self.init_size, self.init_size)\n",
    "        img = self.conv_blocks(out)\n",
    "        return img"
   ]
  },
  {
   "cell_type": "markdown",
   "metadata": {},
   "source": [
    "Discriminator"
   ]
  },
  {
   "cell_type": "code",
   "execution_count": 8,
   "metadata": {},
   "outputs": [],
   "source": [
    "class Discriminator(nn.Module):\n",
    "    def __init__(self):\n",
    "        super(Discriminator, self).__init__()\n",
    "\n",
    "        def discriminator_block(in_filters, out_filters, bn=True):\n",
    "            block = [   nn.Conv2d(in_filters, out_filters, 3, 2, 1),\n",
    "                        nn.LeakyReLU(0.2, inplace=True),\n",
    "                        nn.Dropout2d(0.25)]\n",
    "            if bn:\n",
    "                block.append(nn.BatchNorm2d(out_filters, 0.8))\n",
    "            return block\n",
    "\n",
    "        self.model = nn.Sequential(\n",
    "            *discriminator_block(img_channels, 16, bn=False),\n",
    "            *discriminator_block(16, 32),\n",
    "            *discriminator_block(32, 64),\n",
    "            *discriminator_block(64, 128),\n",
    "        )\n",
    "\n",
    "        # The height and width of downsampled image\n",
    "        ds_size = img_dim // 2**4\n",
    "        self.adv_layer = nn.Sequential( nn.Linear(128*ds_size**2, 1),\n",
    "                                        nn.Sigmoid())\n",
    "\n",
    "    def forward(self, img):\n",
    "        out = self.model(img)\n",
    "        out = out.view(out.shape[0], -1)\n",
    "        validity = self.adv_layer(out)\n",
    "\n",
    "        return validity"
   ]
  },
  {
   "cell_type": "markdown",
   "metadata": {},
   "source": [
    "Function to initialise weights"
   ]
  },
  {
   "cell_type": "code",
   "execution_count": 9,
   "metadata": {},
   "outputs": [],
   "source": [
    "def weights_init_normal(m):\n",
    "    classname = m.__class__.__name__\n",
    "    if classname.find('Conv') != -1:\n",
    "        torch.nn.init.normal_(m.weight.data, 0.0, 0.02)\n",
    "    elif classname.find('BatchNorm2d') != -1:\n",
    "        torch.nn.init.normal_(m.weight.data, 1.0, 0.02)\n",
    "        torch.nn.init.constant_(m.bias.data, 0.0)"
   ]
  },
  {
   "cell_type": "markdown",
   "metadata": {},
   "source": [
    "Initialising and configuring metrics"
   ]
  },
  {
   "cell_type": "code",
   "execution_count": 10,
   "metadata": {},
   "outputs": [
    {
     "name": "stdout",
     "output_type": "stream",
     "text": [
      "Generator(\n",
      "  (l1): Sequential(\n",
      "    (0): Linear(in_features=100, out_features=8192, bias=True)\n",
      "  )\n",
      "  (conv_blocks): Sequential(\n",
      "    (0): BatchNorm2d(128, eps=1e-05, momentum=0.1, affine=True, track_running_stats=True)\n",
      "    (1): Interpolate()\n",
      "    (2): Conv2d(128, 128, kernel_size=(3, 3), stride=(1, 1), padding=(1, 1))\n",
      "    (3): BatchNorm2d(128, eps=0.8, momentum=0.1, affine=True, track_running_stats=True)\n",
      "    (4): LeakyReLU(negative_slope=0.2, inplace)\n",
      "    (5): Interpolate()\n",
      "    (6): Conv2d(128, 64, kernel_size=(3, 3), stride=(1, 1), padding=(1, 1))\n",
      "    (7): BatchNorm2d(64, eps=0.8, momentum=0.1, affine=True, track_running_stats=True)\n",
      "    (8): LeakyReLU(negative_slope=0.2, inplace)\n",
      "    (9): Conv2d(64, 3, kernel_size=(3, 3), stride=(1, 1), padding=(1, 1))\n",
      "    (10): Tanh()\n",
      "  )\n",
      ")\n",
      "Discriminator(\n",
      "  (model): Sequential(\n",
      "    (0): Conv2d(3, 16, kernel_size=(3, 3), stride=(2, 2), padding=(1, 1))\n",
      "    (1): LeakyReLU(negative_slope=0.2, inplace)\n",
      "    (2): Dropout2d(p=0.25)\n",
      "    (3): Conv2d(16, 32, kernel_size=(3, 3), stride=(2, 2), padding=(1, 1))\n",
      "    (4): LeakyReLU(negative_slope=0.2, inplace)\n",
      "    (5): Dropout2d(p=0.25)\n",
      "    (6): BatchNorm2d(32, eps=0.8, momentum=0.1, affine=True, track_running_stats=True)\n",
      "    (7): Conv2d(32, 64, kernel_size=(3, 3), stride=(2, 2), padding=(1, 1))\n",
      "    (8): LeakyReLU(negative_slope=0.2, inplace)\n",
      "    (9): Dropout2d(p=0.25)\n",
      "    (10): BatchNorm2d(64, eps=0.8, momentum=0.1, affine=True, track_running_stats=True)\n",
      "    (11): Conv2d(64, 128, kernel_size=(3, 3), stride=(2, 2), padding=(1, 1))\n",
      "    (12): LeakyReLU(negative_slope=0.2, inplace)\n",
      "    (13): Dropout2d(p=0.25)\n",
      "    (14): BatchNorm2d(128, eps=0.8, momentum=0.1, affine=True, track_running_stats=True)\n",
      "  )\n",
      "  (adv_layer): Sequential(\n",
      "    (0): Linear(in_features=512, out_features=1, bias=True)\n",
      "    (1): Sigmoid()\n",
      "  )\n",
      ")\n"
     ]
    }
   ],
   "source": [
    "# Loss function\n",
    "adversarial_loss = torch.nn.BCELoss()\n",
    "\n",
    "# Initialize generator and discriminator\n",
    "generator = Generator()\n",
    "discriminator = Discriminator()\n",
    "\n",
    "if cuda:\n",
    "    generator.cuda()\n",
    "    discriminator.cuda()\n",
    "    adversarial_loss.cuda()\n",
    "\n",
    "# Initialize weights\n",
    "generator.apply(weights_init_normal)\n",
    "discriminator.apply(weights_init_normal)\n",
    "\n",
    "# Optimizers\n",
    "optimizer_G = torch.optim.Adam(generator.parameters(), lr=lr, betas=(b1, b2))\n",
    "optimizer_D = torch.optim.Adam(discriminator.parameters(), lr=lr, betas=(b1, b2))\n",
    "\n",
    "Tensor = torch.cuda.FloatTensor if cuda else torch.FloatTensor\n",
    "\n",
    "print(generator)\n",
    "print(discriminator)"
   ]
  },
  {
   "cell_type": "markdown",
   "metadata": {},
   "source": [
    "Training"
   ]
  },
  {
   "cell_type": "code",
   "execution_count": 11,
   "metadata": {},
   "outputs": [
    {
     "name": "stdout",
     "output_type": "stream",
     "text": [
      "[Epoch 0/50] [Batch 390/782] [D loss: 0.690119] [G loss: 0.685009]\n",
      "[Epoch 0/50] [Batch 781/782] [D loss: 0.691298] [G loss: 0.714511]\n",
      "[Epoch 1/50] [Batch 390/782] [D loss: 0.685620] [G loss: 0.709720]\n",
      "[Epoch 1/50] [Batch 781/782] [D loss: 0.694044] [G loss: 0.708949]\n",
      "[Epoch 2/50] [Batch 390/782] [D loss: 0.693050] [G loss: 0.689081]\n",
      "[Epoch 2/50] [Batch 781/782] [D loss: 0.690652] [G loss: 0.696676]\n",
      "[Epoch 3/50] [Batch 390/782] [D loss: 0.694324] [G loss: 0.691677]\n",
      "[Epoch 3/50] [Batch 781/782] [D loss: 0.688619] [G loss: 0.699967]\n",
      "[Epoch 4/50] [Batch 390/782] [D loss: 0.693947] [G loss: 0.698206]\n",
      "[Epoch 4/50] [Batch 781/782] [D loss: 0.694621] [G loss: 0.700401]\n",
      "[Epoch 5/50] [Batch 390/782] [D loss: 0.693297] [G loss: 0.689382]\n",
      "[Epoch 5/50] [Batch 781/782] [D loss: 0.697443] [G loss: 0.678003]\n",
      "[Epoch 6/50] [Batch 390/782] [D loss: 0.694985] [G loss: 0.694275]\n",
      "[Epoch 6/50] [Batch 781/782] [D loss: 0.694370] [G loss: 0.697986]\n",
      "[Epoch 7/50] [Batch 390/782] [D loss: 0.724758] [G loss: 0.632872]\n",
      "[Epoch 7/50] [Batch 781/782] [D loss: 0.696746] [G loss: 0.686718]\n",
      "[Epoch 8/50] [Batch 390/782] [D loss: 0.688302] [G loss: 0.703321]\n",
      "[Epoch 8/50] [Batch 781/782] [D loss: 0.690492] [G loss: 0.697885]\n",
      "[Epoch 9/50] [Batch 390/782] [D loss: 0.689092] [G loss: 0.696813]\n",
      "[Epoch 9/50] [Batch 781/782] [D loss: 0.692434] [G loss: 0.694269]\n",
      "[Epoch 10/50] [Batch 390/782] [D loss: 0.693153] [G loss: 0.683564]\n",
      "[Epoch 10/50] [Batch 781/782] [D loss: 0.689156] [G loss: 0.699693]\n",
      "[Epoch 11/50] [Batch 390/782] [D loss: 0.692413] [G loss: 0.696942]\n",
      "[Epoch 11/50] [Batch 781/782] [D loss: 0.692432] [G loss: 0.690334]\n",
      "[Epoch 12/50] [Batch 390/782] [D loss: 0.692762] [G loss: 0.694027]\n",
      "[Epoch 12/50] [Batch 781/782] [D loss: 0.694402] [G loss: 0.694939]\n",
      "[Epoch 13/50] [Batch 390/782] [D loss: 0.686570] [G loss: 0.710984]\n",
      "[Epoch 13/50] [Batch 781/782] [D loss: 0.691506] [G loss: 0.697016]\n",
      "[Epoch 14/50] [Batch 390/782] [D loss: 0.696698] [G loss: 0.701683]\n",
      "[Epoch 14/50] [Batch 781/782] [D loss: 0.697920] [G loss: 0.693160]\n",
      "[Epoch 15/50] [Batch 390/782] [D loss: 0.693778] [G loss: 0.695870]\n",
      "[Epoch 15/50] [Batch 781/782] [D loss: 0.701762] [G loss: 0.688978]\n",
      "[Epoch 16/50] [Batch 390/782] [D loss: 0.696063] [G loss: 0.694658]\n",
      "[Epoch 16/50] [Batch 781/782] [D loss: 0.689575] [G loss: 0.698406]\n",
      "[Epoch 17/50] [Batch 390/782] [D loss: 0.691536] [G loss: 0.693897]\n",
      "[Epoch 17/50] [Batch 781/782] [D loss: 0.688609] [G loss: 0.704377]\n",
      "[Epoch 18/50] [Batch 390/782] [D loss: 0.693022] [G loss: 0.696096]\n",
      "[Epoch 18/50] [Batch 781/782] [D loss: 0.712498] [G loss: 0.685736]\n",
      "[Epoch 19/50] [Batch 390/782] [D loss: 0.694419] [G loss: 0.692986]\n",
      "[Epoch 19/50] [Batch 781/782] [D loss: 0.689517] [G loss: 0.703619]\n",
      "[Epoch 20/50] [Batch 390/782] [D loss: 0.692640] [G loss: 0.695603]\n",
      "[Epoch 20/50] [Batch 781/782] [D loss: 0.690981] [G loss: 0.696115]\n",
      "[Epoch 21/50] [Batch 390/782] [D loss: 0.690870] [G loss: 0.692757]\n",
      "[Epoch 21/50] [Batch 781/782] [D loss: 0.699370] [G loss: 0.690982]\n",
      "[Epoch 22/50] [Batch 390/782] [D loss: 0.696911] [G loss: 0.698927]\n",
      "[Epoch 22/50] [Batch 781/782] [D loss: 0.697674] [G loss: 0.698790]\n",
      "[Epoch 23/50] [Batch 390/782] [D loss: 0.689355] [G loss: 0.695830]\n",
      "[Epoch 23/50] [Batch 781/782] [D loss: 0.697165] [G loss: 0.696358]\n",
      "[Epoch 24/50] [Batch 390/782] [D loss: 0.690144] [G loss: 0.694169]\n",
      "[Epoch 24/50] [Batch 781/782] [D loss: 0.694799] [G loss: 0.703190]\n",
      "[Epoch 25/50] [Batch 390/782] [D loss: 0.691627] [G loss: 0.688517]\n",
      "[Epoch 25/50] [Batch 781/782] [D loss: 0.710331] [G loss: 0.674386]\n",
      "[Epoch 26/50] [Batch 390/782] [D loss: 0.691771] [G loss: 0.698723]\n",
      "[Epoch 26/50] [Batch 781/782] [D loss: 0.697882] [G loss: 0.723183]\n",
      "[Epoch 27/50] [Batch 390/782] [D loss: 0.697716] [G loss: 0.705555]\n",
      "[Epoch 27/50] [Batch 781/782] [D loss: 0.668760] [G loss: 0.757881]\n",
      "[Epoch 28/50] [Batch 390/782] [D loss: 0.687570] [G loss: 0.680319]\n",
      "[Epoch 28/50] [Batch 781/782] [D loss: 0.677401] [G loss: 0.721663]\n",
      "[Epoch 29/50] [Batch 390/782] [D loss: 0.696501] [G loss: 0.708973]\n",
      "[Epoch 29/50] [Batch 781/782] [D loss: 0.687527] [G loss: 0.702075]\n",
      "[Epoch 30/50] [Batch 390/782] [D loss: 0.698156] [G loss: 0.686352]\n",
      "[Epoch 30/50] [Batch 781/782] [D loss: 0.682107] [G loss: 0.725795]\n",
      "[Epoch 31/50] [Batch 390/782] [D loss: 0.692088] [G loss: 0.680828]\n",
      "[Epoch 31/50] [Batch 781/782] [D loss: 0.690568] [G loss: 0.720927]\n",
      "[Epoch 32/50] [Batch 390/782] [D loss: 0.688824] [G loss: 0.694668]\n",
      "[Epoch 32/50] [Batch 781/782] [D loss: 0.699744] [G loss: 0.732315]\n",
      "[Epoch 33/50] [Batch 390/782] [D loss: 0.684592] [G loss: 0.718433]\n",
      "[Epoch 33/50] [Batch 781/782] [D loss: 0.690366] [G loss: 0.718967]\n",
      "[Epoch 34/50] [Batch 390/782] [D loss: 0.705961] [G loss: 0.716736]\n",
      "[Epoch 34/50] [Batch 781/782] [D loss: 0.704295] [G loss: 0.662038]\n",
      "[Epoch 35/50] [Batch 390/782] [D loss: 0.679884] [G loss: 0.693254]\n",
      "[Epoch 35/50] [Batch 781/782] [D loss: 0.682121] [G loss: 0.694724]\n",
      "[Epoch 36/50] [Batch 390/782] [D loss: 0.709865] [G loss: 0.653809]\n",
      "[Epoch 36/50] [Batch 781/782] [D loss: 0.716031] [G loss: 0.707087]\n",
      "[Epoch 37/50] [Batch 390/782] [D loss: 0.686373] [G loss: 0.676201]\n",
      "[Epoch 37/50] [Batch 781/782] [D loss: 0.723722] [G loss: 0.716107]\n",
      "[Epoch 38/50] [Batch 390/782] [D loss: 0.701342] [G loss: 0.706046]\n",
      "[Epoch 38/50] [Batch 781/782] [D loss: 0.726081] [G loss: 0.692551]\n",
      "[Epoch 39/50] [Batch 390/782] [D loss: 0.712228] [G loss: 0.677292]\n",
      "[Epoch 39/50] [Batch 781/782] [D loss: 0.701557] [G loss: 0.695733]\n",
      "[Epoch 40/50] [Batch 390/782] [D loss: 0.696087] [G loss: 0.688301]\n",
      "[Epoch 40/50] [Batch 781/782] [D loss: 0.698940] [G loss: 0.714201]\n",
      "[Epoch 41/50] [Batch 390/782] [D loss: 0.706538] [G loss: 0.684042]\n",
      "[Epoch 41/50] [Batch 781/782] [D loss: 0.692778] [G loss: 0.738686]\n",
      "[Epoch 42/50] [Batch 390/782] [D loss: 0.700746] [G loss: 0.697303]\n",
      "[Epoch 42/50] [Batch 781/782] [D loss: 0.685114] [G loss: 0.705255]\n",
      "[Epoch 43/50] [Batch 390/782] [D loss: 0.700082] [G loss: 0.703138]\n",
      "[Epoch 43/50] [Batch 781/782] [D loss: 0.695729] [G loss: 0.729928]\n",
      "[Epoch 44/50] [Batch 390/782] [D loss: 0.688544] [G loss: 0.706171]\n",
      "[Epoch 44/50] [Batch 781/782] [D loss: 0.693345] [G loss: 0.659923]\n",
      "[Epoch 45/50] [Batch 390/782] [D loss: 0.696487] [G loss: 0.681961]\n",
      "[Epoch 45/50] [Batch 781/782] [D loss: 0.702932] [G loss: 0.709774]\n",
      "[Epoch 46/50] [Batch 390/782] [D loss: 0.687871] [G loss: 0.708097]\n",
      "[Epoch 46/50] [Batch 781/782] [D loss: 0.697837] [G loss: 0.705037]\n",
      "[Epoch 47/50] [Batch 390/782] [D loss: 0.689530] [G loss: 0.695206]\n",
      "[Epoch 47/50] [Batch 781/782] [D loss: 0.718650] [G loss: 0.663363]\n",
      "[Epoch 48/50] [Batch 390/782] [D loss: 0.691323] [G loss: 0.708012]\n",
      "[Epoch 48/50] [Batch 781/782] [D loss: 0.711998] [G loss: 0.720237]\n",
      "[Epoch 49/50] [Batch 390/782] [D loss: 0.696660] [G loss: 0.688962]\n",
      "[Epoch 49/50] [Batch 781/782] [D loss: 0.718570] [G loss: 0.643348]\n"
     ]
    }
   ],
   "source": [
    "gen_loss = []\n",
    "disc_loss = []\n",
    "\n",
    "for epoch in range(epochs):\n",
    "    for i, (imgs, _) in enumerate(dataloader):\n",
    "\n",
    "        # Adversarial ground truths\n",
    "        valid = Tensor(imgs.shape[0], 1).fill_(1.0)\n",
    "        fake = Tensor(imgs.shape[0], 1).fill_(0.0)\n",
    "\n",
    "        # Configure input\n",
    "        real_imgs = imgs.type(Tensor)\n",
    "\n",
    "        # -----------------\n",
    "        #  Train Generator\n",
    "        # -----------------\n",
    "\n",
    "        optimizer_G.zero_grad()\n",
    "\n",
    "        # Sample noise as generator input\n",
    "        z = Tensor(np.random.normal(0, 1, (imgs.shape[0], latent_dim)))\n",
    "\n",
    "        # Generate a batch of images\n",
    "        gen_imgs = generator(z)\n",
    "\n",
    "        # Loss measures generator's ability to fool the discriminator\n",
    "        g_loss = adversarial_loss(discriminator(gen_imgs), valid)\n",
    "        \n",
    "        gen_loss.append(g_loss)\n",
    "\n",
    "        g_loss.backward()\n",
    "        optimizer_G.step()\n",
    "\n",
    "        # ---------------------\n",
    "        #  Train Discriminator\n",
    "        # ---------------------\n",
    "\n",
    "        optimizer_D.zero_grad()\n",
    "\n",
    "        # Measure discriminator's ability to classify real from generated samples\n",
    "        real_loss = adversarial_loss(discriminator(real_imgs), valid)\n",
    "        fake_loss = adversarial_loss(discriminator(gen_imgs.detach()), fake)\n",
    "        d_loss = (real_loss + fake_loss) / 2\n",
    "        \n",
    "        disc_loss.append(d_loss)\n",
    "\n",
    "        d_loss.backward()\n",
    "        optimizer_D.step()\n",
    "\n",
    "        batches_done = epoch * len(dataloader) + i\n",
    "        if batches_done % sample_interval == 0:\n",
    "            save_image(gen_imgs.data[:25], 'images/%d.png' % batches_done, nrow=5, normalize=True)\n",
    "        if (batches_done + 1) % print_interval == 0:\n",
    "            print (\"[Epoch %d/%d] [Batch %d/%d] [D loss: %f] [G loss: %f]\" % (epoch, epochs, i, len(dataloader),\n",
    "                                                                d_loss.item(), g_loss.item()))\n",
    "            \n",
    "            \n",
    "    if checkpoint_interval != -1 and epoch % checkpoint_interval == 0:\n",
    "        # Save model checkpoints\n",
    "        torch.save(generator.state_dict(), 'saved_models/generator_%d.pth' % epoch)\n",
    "        torch.save(discriminator.state_dict(), 'saved_models/discriminator_%d.pth' % epoch)\n",
    "\n"
   ]
  },
  {
   "cell_type": "code",
   "execution_count": 12,
   "metadata": {},
   "outputs": [],
   "source": [
    "# Save latest and print latest\n",
    "torch.save(generator.state_dict(), 'saved_models/generator_50.pth')\n",
    "torch.save(discriminator.state_dict(), 'saved_models/discriminator_50.pth')\n",
    "save_image(gen_imgs.data[:25], 'images/%d.png' % batches_done, nrow=5, normalize=True)"
   ]
  },
  {
   "cell_type": "code",
   "execution_count": 13,
   "metadata": {},
   "outputs": [],
   "source": [
    "plot_d = [float(x) for x in disc_loss]\n",
    "plot_g = [float(x) for x in gen_loss]"
   ]
  },
  {
   "cell_type": "code",
   "execution_count": 14,
   "metadata": {},
   "outputs": [
    {
     "data": {
      "text/plain": [
       "[<matplotlib.lines.Line2D at 0x7f60c80e2470>]"
      ]
     },
     "execution_count": 14,
     "metadata": {},
     "output_type": "execute_result"
    },
    {
     "data": {
      "image/png": "[encoded data removed]",
      "text/plain": [
       "<Figure size 432x288 with 1 Axes>"
      ]
     },
     "metadata": {
      "needs_background": "light"
     },
     "output_type": "display_data"
    }
   ],
   "source": [
    "plt.plot(plot_d,linewidth=0.3)"
   ]
  },
  {
   "cell_type": "code",
   "execution_count": 16,
   "metadata": {},
   "outputs": [
    {
     "data": {
      "text/plain": [
       "[<matplotlib.lines.Line2D at 0x7f5ea7cff1d0>]"
      ]
     },
     "execution_count": 16,
     "metadata": {},
     "output_type": "execute_result"
    },
    {
     "data": {
      "image/png": "[encoded data removed]",
      "text/plain": [
       "<Figure size 432x288 with 1 Axes>"
      ]
     },
     "metadata": {
      "needs_background": "light"
     },
     "output_type": "display_data"
    }
   ],
   "source": [
    "plt.plot(plot_g,linewidth=0.3)"
   ]
  },
  {
   "cell_type": "markdown",
   "metadata": {},
   "source": [
    "It seems the sampled images are increasing in complexity, however there is no sign of the generator loss decreasing... Loss oscillations decrease towards the final iterations."
   ]
  }
 ],
 "metadata": {
  "kernelspec": {
   "display_name": "Python 3",
   "language": "python",
   "name": "python3"
  },
  "language_info": {
   "codemirror_mode": {
    "name": "ipython",
    "version": 3
   },
   "file_extension": ".py",
   "mimetype": "text/x-python",
   "name": "python",
   "nbconvert_exporter": "python",
   "pygments_lexer": "ipython3",
   "version": "3.6.6"
  }
 },
 "nbformat": 4,
 "nbformat_minor": 2
}
